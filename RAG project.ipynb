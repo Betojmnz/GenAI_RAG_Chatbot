{
 "cells": [
  {
   "cell_type": "markdown",
   "id": "124e5672",
   "metadata": {},
   "source": [
    "# Custom Chatbot Project"
   ]
  },
  {
   "cell_type": "markdown",
   "id": "2a4a94b3",
   "metadata": {},
   "source": [
    "TODO: In this cell, write an explanation of which dataset you have chosen and why it is appropriate for this task\n",
    "\n",
    "The dataset chosen is a medical dataset which consists in 16K rows of questions and answers related to susceptibility, symptoms, treatments and prevention of diseases. This dataset is adequate for the task as it's segregated in questions and answers and users can ask directly how to prevent diseases, how is most at risk, what are the most common symptoms, and other characteristics directly related to health issues."
   ]
  },
  {
   "cell_type": "markdown",
   "id": "a63d4c5f",
   "metadata": {},
   "source": [
    "## Data Wrangling\n",
    "\n",
    "TODO: In the cells below, load your chosen dataset into a `pandas` dataframe with a column named `\"text\"`. This column should contain all of your text data, separated into at least 20 rows."
   ]
  },
  {
   "cell_type": "code",
   "execution_count": 1,
   "id": "c69b83a1",
   "metadata": {},
   "outputs": [],
   "source": [
    "#Import all relevant python libraries\n",
    "import pandas as pd\n",
    "import numpy as np\n",
    "from pathlib import Path\n",
    "import tiktoken"
   ]
  },
  {
   "cell_type": "code",
   "execution_count": 2,
   "id": "0a595980",
   "metadata": {},
   "outputs": [
    {
     "data": {
      "text/html": [
       "<div>\n",
       "<style scoped>\n",
       "    .dataframe tbody tr th:only-of-type {\n",
       "        vertical-align: middle;\n",
       "    }\n",
       "\n",
       "    .dataframe tbody tr th {\n",
       "        vertical-align: top;\n",
       "    }\n",
       "\n",
       "    .dataframe thead th {\n",
       "        text-align: right;\n",
       "    }\n",
       "</style>\n",
       "<table border=\"1\" class=\"dataframe\">\n",
       "  <thead>\n",
       "    <tr style=\"text-align: right;\">\n",
       "      <th></th>\n",
       "      <th>qtype</th>\n",
       "      <th>Question</th>\n",
       "      <th>text</th>\n",
       "    </tr>\n",
       "  </thead>\n",
       "  <tbody>\n",
       "    <tr>\n",
       "      <th>0</th>\n",
       "      <td>susceptibility</td>\n",
       "      <td>Who is at risk for Lymphocytic Choriomeningiti...</td>\n",
       "      <td>LCMV infections can occur after exposure to fr...</td>\n",
       "    </tr>\n",
       "    <tr>\n",
       "      <th>1</th>\n",
       "      <td>symptoms</td>\n",
       "      <td>What are the symptoms of Lymphocytic Choriomen...</td>\n",
       "      <td>LCMV is most commonly recognized as causing ne...</td>\n",
       "    </tr>\n",
       "    <tr>\n",
       "      <th>2</th>\n",
       "      <td>susceptibility</td>\n",
       "      <td>Who is at risk for Lymphocytic Choriomeningiti...</td>\n",
       "      <td>Individuals of all ages who come into contact ...</td>\n",
       "    </tr>\n",
       "    <tr>\n",
       "      <th>3</th>\n",
       "      <td>exams and tests</td>\n",
       "      <td>How to diagnose Lymphocytic Choriomeningitis (...</td>\n",
       "      <td>During the first phase of the disease, the mos...</td>\n",
       "    </tr>\n",
       "    <tr>\n",
       "      <th>4</th>\n",
       "      <td>treatment</td>\n",
       "      <td>What are the treatments for Lymphocytic Chorio...</td>\n",
       "      <td>Aseptic meningitis, encephalitis, or meningoen...</td>\n",
       "    </tr>\n",
       "  </tbody>\n",
       "</table>\n",
       "</div>"
      ],
      "text/plain": [
       "             qtype                                           Question  \\\n",
       "0   susceptibility  Who is at risk for Lymphocytic Choriomeningiti...   \n",
       "1         symptoms  What are the symptoms of Lymphocytic Choriomen...   \n",
       "2   susceptibility  Who is at risk for Lymphocytic Choriomeningiti...   \n",
       "3  exams and tests  How to diagnose Lymphocytic Choriomeningitis (...   \n",
       "4        treatment  What are the treatments for Lymphocytic Chorio...   \n",
       "\n",
       "                                                text  \n",
       "0  LCMV infections can occur after exposure to fr...  \n",
       "1  LCMV is most commonly recognized as causing ne...  \n",
       "2  Individuals of all ages who come into contact ...  \n",
       "3  During the first phase of the disease, the mos...  \n",
       "4  Aseptic meningitis, encephalitis, or meningoen...  "
      ]
     },
     "execution_count": 2,
     "metadata": {},
     "output_type": "execute_result"
    }
   ],
   "source": [
    "# Load the selected dataset\n",
    "df = pd.read_csv(\"data/medDataset_processed.csv\")\n",
    "\n",
    "\n",
    "#Rename the Answer column to \"text\"\n",
    "df.rename(columns={'Answer':'text'},inplace=True)\n",
    "df.head()"
   ]
  },
  {
   "cell_type": "code",
   "execution_count": null,
   "id": "acb3a9fd",
   "metadata": {},
   "outputs": [],
   "source": []
  },
  {
   "cell_type": "markdown",
   "id": "ae769871",
   "metadata": {},
   "source": [
    "## Custom Query Completion\n",
    "\n",
    "TODO: In the cells below, compose a custom query using your chosen dataset and retrieve results from an OpenAI `Completion` model. You may copy and paste any useful code from the course materials."
   ]
  },
  {
   "cell_type": "code",
   "execution_count": 3,
   "id": "582f0656",
   "metadata": {},
   "outputs": [],
   "source": [
    "import openai\n",
    "openai.api_key = \"YOUR API KEY\""
   ]
  },
  {
   "cell_type": "code",
   "execution_count": 4,
   "id": "e7826bb4",
   "metadata": {},
   "outputs": [],
   "source": [
    "# Create a tokenizer to align with the embeddings\n",
    "tokenizer = tiktoken.get_encoding(\"cl100k_base\")\n",
    "token_limit = 1000"
   ]
  },
  {
   "cell_type": "code",
   "execution_count": 5,
   "id": "8b6e1f75",
   "metadata": {},
   "outputs": [],
   "source": [
    "#Define basic completion query using gpt-3.5-turbo-instruct as our selected model \n",
    "def basic_completion_query(question):\n",
    "    prompt = f\"Question: {question}\\nAnswer:\"\n",
    "    tokens = tokenizer.encode(prompt) #Tokenize prompt\n",
    "    response = openai.Completion.create(\n",
    "        model=\"gpt-3.5-turbo-instruct\",\n",
    "        prompt=prompt,\n",
    "        max_tokens=500\n",
    "    )\n",
    "    return response.choices[0].text.strip()\n",
    "\n",
    "#Define function to generate custom query\n",
    "def custom_completion_query(question):\n",
    "    custom_context = \"You're a medical assistant specializing in providing detailed and accurate answers to medical questions\"\n",
    "    prompt = f\"{custom_context}\\n\\nQuestion: {question}\\nAnswer:\"\n",
    "    tokens=tokenizer.encode(prompt) #Tokenize prompt\n",
    "    response=openai.Completion.create(\n",
    "        model=\"gpt-3.5-turbo-instruct\",\n",
    "        prompt=prompt,\n",
    "        max_tokens=500\n",
    "    )\n",
    "    return response.choices[0].text.strip()\n",
    "\n"
   ]
  },
  {
   "cell_type": "code",
   "execution_count": null,
   "id": "c403f543",
   "metadata": {},
   "outputs": [],
   "source": []
  },
  {
   "cell_type": "code",
   "execution_count": null,
   "id": "74280b92",
   "metadata": {},
   "outputs": [],
   "source": []
  },
  {
   "cell_type": "markdown",
   "id": "1783f146",
   "metadata": {},
   "source": [
    "## Custom Performance Demonstration\n",
    "\n",
    "TODO: In the cells below, demonstrate the performance of your custom query using at least 2 questions. For each question, show the answer from a basic `Completion` model query as well as the answer from your custom query."
   ]
  },
  {
   "cell_type": "markdown",
   "id": "4f11fdc0",
   "metadata": {},
   "source": [
    "### Question 1"
   ]
  },
  {
   "cell_type": "code",
   "execution_count": 6,
   "id": "4901c850",
   "metadata": {},
   "outputs": [
    {
     "name": "stdout",
     "output_type": "stream",
     "text": [
      "Question: Who is at risk for Lymphocytic Choriomeningitis (LCM)? ?\n",
      "\n",
      "==================================================\n",
      "\n",
      "Basic Answer: People who are at risk for Lymphocytic Choriomeningitis (LCM) include those who come into contact with rodents, specifically the house mouse (Mus musculus), or their secretions. This can include pet mice, wild mice, or exposure to areas with high rodent populations such as storage facilities or agricultural settings. People with weakened immune systems, pregnant women, and infants are also at an increased risk for developing LCM.\n",
      "\n",
      "==================================================\n",
      "\n",
      "Custom Answer: Individuals who come into contact with infected rodents or their urine, droppings, or saliva, as well as those with weakened immune systems, pregnant women, and newborns are at a higher risk for Lymphocytic Choriomeningitis (LCM). Additionally, individuals who live in crowded or unsanitary living conditions, or who engage in activities such as cleaning or working in areas where rodents are present, are also at an increased risk for LCM.\n"
     ]
    }
   ],
   "source": [
    "#Process question No.1\n",
    "question1 = df['Question'][0]\n",
    "\n",
    "basic_answer1 = basic_completion_query(question1)\n",
    "custom_answer1 = custom_completion_query(question1)\n",
    "\n",
    "\n",
    "# Display the results for the first question\n",
    "print(f\"Question: {question1}\")\n",
    "print(\"\\n\" + \"=\"*50 + \"\\n\")\n",
    "print(f\"Basic Answer: {basic_answer1}\")\n",
    "print(\"\\n\" + \"=\"*50 + \"\\n\")\n",
    "print(f\"Custom Answer: {custom_answer1}\")\n"
   ]
  },
  {
   "cell_type": "code",
   "execution_count": null,
   "id": "bd7a093b",
   "metadata": {},
   "outputs": [],
   "source": []
  },
  {
   "cell_type": "markdown",
   "id": "6e86e37c",
   "metadata": {},
   "source": [
    "### Question 2"
   ]
  },
  {
   "cell_type": "code",
   "execution_count": 7,
   "id": "6f646989",
   "metadata": {},
   "outputs": [
    {
     "name": "stdout",
     "output_type": "stream",
     "text": [
      "Question: How to prevent Parasites - Cysticercosis ?\n",
      "\n",
      "==================================================\n",
      "\n",
      "Basic Answer: To prevent Parasites - Cysticercosis, it is important to practice good hygiene and sanitation habits, including:\n",
      "\n",
      "1. Wash your hands frequently and thoroughly before handling food and after using the bathroom.\n",
      "\n",
      "2. Cook meat to a safe internal temperature to kill any potential tapeworm larvae.\n",
      "\n",
      "3. Avoid eating raw or undercooked meat, especially pork.\n",
      "\n",
      "4. Wash and peel fruits and vegetables before eating them.\n",
      "\n",
      "5. Avoid drinking untreated water, especially from rivers or lakes.\n",
      "\n",
      "6. Maintain proper sanitation and hygiene practices when raising or slaughtering animals.\n",
      "\n",
      "7. Keep your living space clean and free of pests.\n",
      "\n",
      "8. If traveling to an area where Cysticercosis is common, avoid eating street food and make sure to drink only bottled or boiled water. \n",
      "\n",
      "9. Regularly deworm pets and avoid allowing them to eat raw or undercooked meat.\n",
      "\n",
      "10. If you suspect you may have been exposed to Cysticercosis, seek medical attention immediately and follow proper treatment guidelines.\n",
      "\n",
      "==================================================\n",
      "\n",
      "Custom Answer: Cysticercosis can be prevented by avoiding eating undercooked or raw pork, properly cooking all meats, and thoroughly washing fruits and vegetables before consuming them. It is also important to practice good hygiene, such as washing your hands frequently, to prevent the transmission of parasites. If traveling to areas where cysticercosis is more common, it is important to avoid contaminated food and water and take necessary precautions to prevent insect bites. Additionally, treating any infections promptly and avoiding contact with infected individuals can also help prevent the spread of the parasite.\n"
     ]
    }
   ],
   "source": [
    "#Process question No.2\n",
    "question2 = df['Question'][10] \n",
    "\n",
    "basic_answer2 = basic_completion_query(question2)\n",
    "custom_answer2 = custom_completion_query(question2)\n",
    "\n",
    "# Display the results for the second question\n",
    "print(f\"Question: {question2}\")\n",
    "print(\"\\n\" + \"=\"*50 + \"\\n\")\n",
    "print(f\"Basic Answer: {basic_answer2}\")\n",
    "print(\"\\n\" + \"=\"*50 + \"\\n\")\n",
    "print(f\"Custom Answer: {custom_answer2}\")\n"
   ]
  },
  {
   "cell_type": "code",
   "execution_count": null,
   "id": "11c07a54",
   "metadata": {},
   "outputs": [],
   "source": []
  }
 ],
 "metadata": {
  "kernelspec": {
   "display_name": "Python 3 (ipykernel)",
   "language": "python",
   "name": "python3"
  },
  "language_info": {
   "codemirror_mode": {
    "name": "ipython",
    "version": 3
   },
   "file_extension": ".py",
   "mimetype": "text/x-python",
   "name": "python",
   "nbconvert_exporter": "python",
   "pygments_lexer": "ipython3",
   "version": "3.9.18"
  }
 },
 "nbformat": 4,
 "nbformat_minor": 5
}
